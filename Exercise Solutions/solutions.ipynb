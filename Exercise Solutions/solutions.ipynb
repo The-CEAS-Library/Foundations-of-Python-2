{
 "cells": [
  {
   "cell_type": "markdown",
   "metadata": {},
   "source": [
    "# Exercise 1\n",
    "#### Comparators\n",
    "1. Take two number from user and check whether they are equal or not.<br><br>\n",
    "2. Take 3 inputs from user and check if\n",
    "   * they all are equal\n",
    "   * any of two are equal<br>\n",
    "   **HINT**:  use **and**, **or**<br><br> \n",
    "3. Take two number from user and check whether the sum is greater than 5, less than 5 or equal to 5.<br>\n",
    "   **HINT**:  For Python3 users, since the **input** outputs a string, use the **float( )** to convert to a floating number before addding<br><br>   \n",
    "4. Judge the follwing expressions :<br>\n",
    "   **not(True and True)**<br>\n",
    "   **True or False**<br>\n",
    "   **not(False and True)**<br>\n",
    "   **False and False**<br>\n",
    "   What do you think are the results?<br>\n",
    "   Try them on commandline\n",
    "\n",
    "#### Solution 1.1"
   ]
  },
  {
   "cell_type": "code",
   "execution_count": 2,
   "metadata": {},
   "outputs": [
    {
     "name": "stdout",
     "output_type": "stream",
     "text": [
      "Enter first number: 77\n",
      "Enter second number: 77\n",
      "True\n"
     ]
    }
   ],
   "source": [
    "first = input(\"Enter first number: \")\n",
    "second = input(\"Enter second number: \")\n",
    "print(first == second)"
   ]
  },
  {
   "cell_type": "markdown",
   "metadata": {},
   "source": [
    "#### Solution 1.2"
   ]
  },
  {
   "cell_type": "code",
   "execution_count": 3,
   "metadata": {
    "scrolled": true
   },
   "outputs": [
    {
     "name": "stdout",
     "output_type": "stream",
     "text": [
      "first number: 34579\n",
      "second number: 448\n",
      "third number: 448\n",
      "All are equal is : False\n",
      "Any of the three are equal: True\n"
     ]
    }
   ],
   "source": [
    "first = input(\"first number: \")\n",
    "second = input(\"second number: \")\n",
    "third = input(\"third number: \" )\n",
    "all_equal = (first == second and second == third and third == first)\n",
    "print(\"All are equal is :\", all_equal)\n",
    "any_equal = (first == second or second == third or third == first)\n",
    "print(\"Any of the three are equal:\", any_equal)"
   ]
  },
  {
   "cell_type": "markdown",
   "metadata": {},
   "source": [
    "#### Solution 1.3"
   ]
  },
  {
   "cell_type": "code",
   "execution_count": 4,
   "metadata": {},
   "outputs": [
    {
     "name": "stdout",
     "output_type": "stream",
     "text": [
      "first number: 1.256\n",
      "second number: 2.35\n",
      "Sum is greater than 5:  False\n",
      "Sum is equal to 5:  True\n",
      "Sum is lesser than 5:  False\n"
     ]
    }
   ],
   "source": [
    "first = float(input(\"first number: \"))\n",
    "second = float(input(\"second number: \"))\n",
    "sum = first + second\n",
    "print(\"Sum is greater than 5: \", sum > 5)\n",
    "print(\"Sum is equal to 5: \", sum < 5)\n",
    "print(\"Sum is lesser than 5: \", sum == 5)"
   ]
  },
  {
   "cell_type": "code",
   "execution_count": 5,
   "metadata": {},
   "outputs": [
    {
     "name": "stdout",
     "output_type": "stream",
     "text": [
      "False\n",
      "True\n",
      "True\n",
      "False\n"
     ]
    }
   ],
   "source": [
    "print(not(True and True))\n",
    "print(True or False)\n",
    "print(not(False and True))\n",
    "print(False and False)"
   ]
  },
  {
   "cell_type": "markdown",
   "metadata": {},
   "source": [
    "# Exercise 2\n",
    "#### UC 6+2 program\n",
    "Write a program to generate and print the UC 6+2 ID for a given first & last name.\n",
    "1. Take the user's first name and last name and store them in two different variables.\n",
    "2. If the length of the last name is >=6, take the first 6 letters from the last name & first and last letters from the first name to form the six plus two.\n",
    "3. If the length of the last name is <6, take all of the last name, pick first letters of first name to make up for the length the last name & first and last letters from the remainder of the first name\n",
    "4. Print out the six plus two in lower case"
   ]
  },
  {
   "cell_type": "code",
   "execution_count": 1,
   "metadata": {},
   "outputs": [
    {
     "name": "stdout",
     "output_type": "stream",
     "text": [
      "Give your First Name: Joshua\n",
      "Give your Last Name: Anoint\n",
      "anointja\n"
     ]
    }
   ],
   "source": [
    "# Take input for user's first name and store in a variable\n",
    "first_name = input(\"Give your First Name: \") \n",
    "\n",
    "# Take input for user's last name and store in a variable\n",
    "last_name = input(\"Give your Last Name: \") \n",
    "\n",
    "# Use the appropriate If and else Decision Block with a condition that compares the Length of the Last name to 6\n",
    "# In the If and else Decision Block store the six plus two in a variable\n",
    "# Use the Tips below in your If and else Decision Block\n",
    "if len(last_name)>=6:\n",
    "   sixplus2 = last_name[0:6] + first_name[0] + first_name[-1]\n",
    "else:\n",
    "   sixplus2 = last_name + first_name[0:(6-len(last_name)+1)] + first_name[-1]\n",
    "\n",
    "# Print out the six plus two in lower case\n",
    "print(sixplus2.lower())\n",
    "\n",
    "\n",
    "# Tips (Replace the portions marked with ?)\n",
    "# ********************************************\n",
    "# For length of the last name is >=6, sixplus2 = last_name[0:?] + first_name[0] + first_name[?]\n",
    "# For length of the last name is <6, sixplus2 = last_name + first_name[0:(6-len(?)+1)] + first_name[?]"
   ]
  },
  {
   "cell_type": "markdown",
   "metadata": {},
   "source": [
    "# Exercise 3\n",
    "#### DNA to RNA Transcription\n",
    "The process of converting DNA to RNA<br>\n",
    "G->C<br>\n",
    "C->G<br>\n",
    "A->T<br>\n",
    "T->A<br>\n",
    "Example:<br>\n",
    "**Input:** GCTAGCCTACG<br>\n",
    "**Output:** CGATCGGATGC\n",
    "\n",
    "Write a program that takes a DNA string input from a user and transcripes the string into an RNA string using rules above\n",
    "* Your program should be case insensitive\n",
    "* The program should exit if any other letter aside G,C, A nad T is encountered in the DNA string\n",
    "* Your program should output the RNA string in upper cases"
   ]
  },
  {
   "cell_type": "code",
   "execution_count": 2,
   "metadata": {},
   "outputs": [
    {
     "name": "stdout",
     "output_type": "stream",
     "text": [
      "Give the input DNA Code : cgactaca\n",
      "Done with Translation\n",
      "DNA output:  GCTGATGT\n"
     ]
    }
   ],
   "source": [
    "# Take input for DNA string and store in a variable DNA_string\n",
    "DNA_string = input(\"Give the input DNA Code : \")\n",
    "\n",
    "# Intialize the RNA output as an empty string\n",
    "RNA_string = ''\n",
    "\n",
    "# Use \"for\" loop to traverse the DNA string. Use \"If..elif..else\" sub block to check and concactenate the appropriate letter \n",
    "# to RNA_string.\n",
    "# Use \"else\" block in the \"If..elif..else\" sub block to output an error message and break if a diffrent letter is encountered\n",
    "\n",
    "for i in DNA_string.upper():\n",
    "    # the upper() method is used to make our program case insensitive\n",
    "    if i == 'G':\n",
    "        RNA_string = RNA_string + 'C'\n",
    "    # Continue the \"elif\" blocks of the \"If..elif..else\" block for the other letters\n",
    "    elif i == 'C':\n",
    "        RNA_string = RNA_string + 'G'\n",
    "    elif i == 'A':\n",
    "        RNA_string = RNA_string + 'T'\n",
    "    elif i == 'T':\n",
    "        RNA_string = RNA_string + 'A'\n",
    "    # Complete the \"If..elif..else\" block with \"else\" block for an error message assigned to RNA_string \n",
    "    # break out of the loop    \n",
    "    else: \n",
    "        RNA_string = 'Incorrect DNA string'\n",
    "        break\n",
    "else:\n",
    "    # This else is attached to the for loop\n",
    "    print('Done with Translation')\n",
    "\n",
    "print('DNA output: ', RNA_string)"
   ]
  },
  {
   "cell_type": "markdown",
   "metadata": {},
   "source": [
    "# Exercise 4\n",
    "### Convert the UC 6+2 program to a function\n",
    "Create a funtion to generate and return UC 6+2 ID for a given first & last name.\n",
    "NB: Convert the UC 6+2 program done in Introduction tp Python into a function. You may start afresh if you were not in that workshop\n",
    "\n",
    "1. The inputs should be the first name and last name in that order\n",
    "2. If the length of the last name is >=6, take the first 6 letters from the last name & first and last letters from the first name to form the six plus two.\n",
    "3. If the length of the last name is <6, take all of the last name, pick first letters of first name to make up for the length the last name & first and last letters from the remainder of the first name\n",
    "4. Return the six plus two in lower case"
   ]
  },
  {
   "cell_type": "code",
   "execution_count": 3,
   "metadata": {},
   "outputs": [],
   "source": [
    "def uc_6_2(first_name,last_name):\n",
    "    # Use the appropriate If and else Decision Block with a condition that compares the Length of the Last name\n",
    "    # In the If and else Decision Block store the six plus two in a variable\n",
    "    # Use the Tips below in your If and else Decision Block\n",
    "    if len(last_name) >= 6:\n",
    "        sixplus2 = last_name[0:6] + first_name[0] + first_name[-1]        \n",
    "    # Continue the \"If..elif..else\" block with the appropriate block for the remaining scenario\n",
    "    else:\n",
    "        sixplus2= last_name + first_name[0:(6-len(last_name)+1)] + first_name[-1]\n",
    "    # Return the six plus two in lower case\n",
    "    return(sixplus2.lower())\n",
    "\n",
    "\n",
    "# Tips (Replace the portions marked as with ?)\n",
    "# ********************************************\n",
    "# For length of the last name is >=6, sixplus2 = last_name[0:?] + first_name[0] + first_name[?]\n",
    "# For length of the last name is <6, sixplus2 = last_name + first_name[0:(6-len(?)+1)] + first_name[?]"
   ]
  },
  {
   "cell_type": "code",
   "execution_count": 4,
   "metadata": {},
   "outputs": [
    {
     "data": {
      "text/plain": [
       "'edjahdae'"
      ]
     },
     "execution_count": 4,
     "metadata": {},
     "output_type": "execute_result"
    }
   ],
   "source": [
    "uc_6_2('Daniel Enoch Kwame','Edjah')"
   ]
  },
  {
   "cell_type": "code",
   "execution_count": 5,
   "metadata": {},
   "outputs": [
    {
     "data": {
      "text/plain": [
       "'hewarddg'"
      ]
     },
     "execution_count": 5,
     "metadata": {},
     "output_type": "execute_result"
    }
   ],
   "source": [
    "uc_6_2('Dag','Heward-Mills')"
   ]
  },
  {
   "cell_type": "code",
   "execution_count": 6,
   "metadata": {},
   "outputs": [
    {
     "data": {
      "text/plain": [
       "'sunudela'"
      ]
     },
     "execution_count": 6,
     "metadata": {},
     "output_type": "execute_result"
    }
   ],
   "source": [
    "uc_6_2('Del Akosua','Sunu')"
   ]
  },
  {
   "cell_type": "markdown",
   "metadata": {},
   "source": [
    "## Categorizing data\n",
    "\n",
    "Let us assume we are given a list *l* of many integers (could be 10, 100, many thouands, or even no integers at all). We are also given a value *x*. We want to modify *l* such that if a value in *l* is less than x, we assign that value in the list to be 0. Otherwise, we change the value in the list to be 1. \n",
    "\n",
    "ex)\n",
    "\n",
    "`assign([3,56,2,6,10,19,5], 5)` should modify the list *l* to be `[0, 1, 0, 1, 1, 1, 1]`\n",
    "\n",
    "For every value in the original list, the values less than 5 are changed to 0, and the values that are greater than or equal to 5 are 1.\n",
    "\n",
    "Below is a starting template for the problem and a few test cases. If the output is `True`, the test case has passed."
   ]
  },
  {
   "cell_type": "code",
   "execution_count": 5,
   "metadata": {},
   "outputs": [],
   "source": [
    "def assign(l, x):\n",
    "\n",
    "    for i in range(len(l)):\n",
    "\n",
    "        if l[i] < x:\n",
    "            l[i] = 0\n",
    "        else:\n",
    "            l[i] = 1"
   ]
  },
  {
   "cell_type": "code",
   "execution_count": 6,
   "metadata": {},
   "outputs": [
    {
     "data": {
      "text/plain": [
       "True"
      ]
     },
     "execution_count": 6,
     "metadata": {},
     "output_type": "execute_result"
    }
   ],
   "source": [
    "l1 = [3,56,2,6,10,19,5]\n",
    "assign(l1, 5)\n",
    "\n",
    "l1 == [0,1,0,1,1,1,1]"
   ]
  },
  {
   "cell_type": "code",
   "execution_count": 7,
   "metadata": {},
   "outputs": [
    {
     "data": {
      "text/plain": [
       "True"
      ]
     },
     "execution_count": 7,
     "metadata": {},
     "output_type": "execute_result"
    }
   ],
   "source": [
    "l2 = [10, 100, 1000]\n",
    "assign(l2, 50)\n",
    "\n",
    "l2 == [0,1,1]"
   ]
  },
  {
   "cell_type": "code",
   "execution_count": 8,
   "metadata": {},
   "outputs": [
    {
     "data": {
      "text/plain": [
       "True"
      ]
     },
     "execution_count": 8,
     "metadata": {},
     "output_type": "execute_result"
    }
   ],
   "source": [
    "l3 = [-5, -20, 4, 5, -1, 0]\n",
    "assign(l3, 0)\n",
    "\n",
    "l3 == [0,0,1,1,0,1]"
   ]
  },
  {
   "cell_type": "markdown",
   "metadata": {},
   "source": [
    "## FizzBuzz\n",
    "\n",
    "In this classic question, we are given an integer *n*. We need to return a list of size *n* where we count starting at 1, and the values of the list are strings with these rules:\n",
    "\n",
    "- answer[i] == \"FizzBuzz\" if i is divisible by 3 and 5.\n",
    "- answer[i] == \"Fizz\" if i is divisible by 3.\n",
    "- answer[i] == \"Buzz\" if i is divisible by 5.\n",
    "- answer[i] == i (as a string) if none of the above conditions are true."
   ]
  },
  {
   "cell_type": "code",
   "execution_count": 9,
   "metadata": {},
   "outputs": [],
   "source": [
    "def fizz_buzz(n):\n",
    "    ans = []\n",
    "        \n",
    "    for x in range(1,n+1):\n",
    "        \n",
    "        if x % 3 == 0 and x % 5 == 0:\n",
    "            ans.append(\"FizzBuzz\")\n",
    "            \n",
    "        elif x % 3 == 0:\n",
    "            ans.append(\"Fizz\")\n",
    "            \n",
    "        elif x % 5 == 0:\n",
    "            ans.append(\"Buzz\")\n",
    "            \n",
    "        else:\n",
    "            ans.append(str(x))\n",
    "            \n",
    "            \n",
    "    return ans"
   ]
  },
  {
   "cell_type": "code",
   "execution_count": 10,
   "metadata": {},
   "outputs": [
    {
     "data": {
      "text/plain": [
       "True"
      ]
     },
     "execution_count": 10,
     "metadata": {},
     "output_type": "execute_result"
    }
   ],
   "source": [
    "fizz_buzz(3) == [\"1\",\"2\",\"Fizz\"]"
   ]
  },
  {
   "cell_type": "code",
   "execution_count": 11,
   "metadata": {},
   "outputs": [
    {
     "data": {
      "text/plain": [
       "True"
      ]
     },
     "execution_count": 11,
     "metadata": {},
     "output_type": "execute_result"
    }
   ],
   "source": [
    "fizz_buzz(5) == [\"1\",\"2\",\"Fizz\",\"4\",\"Buzz\"]"
   ]
  },
  {
   "cell_type": "code",
   "execution_count": 12,
   "metadata": {},
   "outputs": [
    {
     "data": {
      "text/plain": [
       "True"
      ]
     },
     "execution_count": 12,
     "metadata": {},
     "output_type": "execute_result"
    }
   ],
   "source": [
    "fizz_buzz(15) == [\"1\",\"2\",\"Fizz\",\"4\",\"Buzz\",\"Fizz\",\"7\",\"8\",\"Fizz\",\"Buzz\",\"11\",\"Fizz\",\"13\",\"14\",\"FizzBuzz\"]"
   ]
  },
  {
   "cell_type": "code",
   "execution_count": 13,
   "metadata": {},
   "outputs": [
    {
     "data": {
      "text/plain": [
       "True"
      ]
     },
     "execution_count": 13,
     "metadata": {},
     "output_type": "execute_result"
    }
   ],
   "source": [
    "fizz_buzz(100) == [\"1\",\"2\",\"Fizz\",\"4\",\"Buzz\",\"Fizz\",\"7\",\"8\",\"Fizz\",\"Buzz\",\"11\",\"Fizz\",\"13\",\"14\",\"FizzBuzz\",\"16\",\"17\",\"Fizz\",\"19\",\"Buzz\",\"Fizz\",\"22\",\"23\",\"Fizz\",\"Buzz\",\"26\",\"Fizz\",\"28\",\"29\",\"FizzBuzz\",\"31\",\"32\",\"Fizz\",\"34\",\"Buzz\",\"Fizz\",\"37\",\"38\",\"Fizz\",\"Buzz\",\"41\",\"Fizz\",\"43\",\"44\",\"FizzBuzz\",\"46\",\"47\",\"Fizz\",\"49\",\"Buzz\",\"Fizz\",\"52\",\"53\",\"Fizz\",\"Buzz\",\"56\",\"Fizz\",\"58\",\"59\",\"FizzBuzz\",\"61\",\"62\",\"Fizz\",\"64\",\"Buzz\",\"Fizz\",\"67\",\"68\",\"Fizz\",\"Buzz\",\"71\",\"Fizz\",\"73\",\"74\",\"FizzBuzz\",\"76\",\"77\",\"Fizz\",\"79\",\"Buzz\",\"Fizz\",\"82\",\"83\",\"Fizz\",\"Buzz\",\"86\",\"Fizz\",\"88\",\"89\",\"FizzBuzz\",\"91\",\"92\",\"Fizz\",\"94\",\"Buzz\",\"Fizz\",\"97\",\"98\",\"Fizz\",\"Buzz\"]"
   ]
  }
 ],
 "metadata": {
  "kernelspec": {
   "display_name": "Python 3.10.6 64-bit",
   "language": "python",
   "name": "python3"
  },
  "language_info": {
   "codemirror_mode": {
    "name": "ipython",
    "version": 3
   },
   "file_extension": ".py",
   "mimetype": "text/x-python",
   "name": "python",
   "nbconvert_exporter": "python",
   "pygments_lexer": "ipython3",
   "version": "3.10.6"
  },
  "vscode": {
   "interpreter": {
    "hash": "aee8b7b246df8f9039afb4144a1f6fd8d2ca17a180786b69acc140d282b71a49"
   }
  }
 },
 "nbformat": 4,
 "nbformat_minor": 2
}
