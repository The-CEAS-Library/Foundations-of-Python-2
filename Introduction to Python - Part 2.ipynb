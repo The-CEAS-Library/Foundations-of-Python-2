{
 "cells": [
  {
   "cell_type": "markdown",
   "metadata": {},
   "source": [
    "# Objectives\n",
    "\n",
    "\n",
    "* **Introduction to Python Part II**<br><br>\n",
    "\n",
    "* **Hands-on**\n",
    " * Control Flow & Loops\n",
    " * Functions and Variable scope<br><br>\n",
    "\n",
    "* **Future Topics**<br><br>\n",
    "\n",
    "* **Helpful hints & resources**"
   ]
  },
    {
   "cell_type": "markdown",
   "metadata": {},
   "source": [
    "# Control Flow\n",
    "### Comparison Operators\n",
    "* Used to form Conditions\n",
    "* Generates Boolean Outputs"
   ]
  },
  {
   "cell_type": "code",
   "execution_count": null,
   "metadata": {},
   "outputs": [],
   "source": [
    "a = 5\n",
    "b = 6\n",
    "name = 'Smith'"
   ]
  },
  {
   "cell_type": "markdown",
   "metadata": {},
   "source": [
    "**Equal to (==)**"
   ]
  },
  {
   "cell_type": "code",
   "execution_count": null,
   "metadata": {
    "collapsed": true
   },
   "outputs": [],
   "source": [
    "a == 5"
   ]
  },
  {
   "cell_type": "code",
   "execution_count": null,
   "metadata": {
    "collapsed": true
   },
   "outputs": [],
   "source": [
    "a == b"
   ]
  },
  {
   "cell_type": "markdown",
   "metadata": {},
   "source": [
    "**Not equal to (!=)**"
   ]
  },
  {
   "cell_type": "code",
   "execution_count": null,
   "metadata": {
    "collapsed": true
   },
   "outputs": [],
   "source": [
    "a != b"
   ]
  },
  {
   "cell_type": "code",
   "execution_count": null,
   "metadata": {},
   "outputs": [],
   "source": [
    "name != 'Smith'"
   ]
  },
  {
   "cell_type": "markdown",
   "metadata": {},
   "source": [
    "**Less than (<) and Greater than (>)**"
   ]
  },
  {
   "cell_type": "code",
   "execution_count": null,
   "metadata": {
    "collapsed": true
   },
   "outputs": [],
   "source": [
    "a < b"
   ]
  },
  {
   "cell_type": "code",
   "execution_count": null,
   "metadata": {
    "collapsed": true
   },
   "outputs": [],
   "source": [
    "b > 7"
   ]
  },
  {
   "cell_type": "markdown",
   "metadata": {},
   "source": [
    "**Greater than or equal to (>=) and Less than or equal to (<=)**"
   ]
  },
  {
   "cell_type": "code",
   "execution_count": null,
   "metadata": {
    "collapsed": true
   },
   "outputs": [],
   "source": [
    "a <= 5"
   ]
  },
  {
   "cell_type": "code",
   "execution_count": null,
   "metadata": {
    "collapsed": true
   },
   "outputs": [],
   "source": [
    "b >= 7"
   ]
  },
  {
   "cell_type": "code",
   "execution_count": null,
   "metadata": {
    "collapsed": true
   },
   "outputs": [],
   "source": [
    "a"
   ]
  },
  {
   "cell_type": "markdown",
   "metadata": {},
   "source": [
    "### Logical Operators\n",
    "Combinational operators - Logical operators are used to combine Comparison statements and to negate the output of a Comparison statement.\n",
    "<br>\n",
    "Below are Logical operators supported by Python language. All other Logical operators can be derived from these\n",
    "\n",
    "**Logical AND (and)**"
   ]
  },
  {
   "cell_type": "code",
   "execution_count": null,
   "metadata": {
    "collapsed": true
   },
   "outputs": [],
   "source": [
    "a <= 5 and a < b"
   ]
  },
  {
   "cell_type": "code",
   "execution_count": null,
   "metadata": {
    "collapsed": true
   },
   "outputs": [],
   "source": [
    "a <= 5 and b >= 7"
   ]
  },
  {
   "cell_type": "markdown",
   "metadata": {},
   "source": [
    "**Logical OR (or)**"
   ]
  },
  {
   "cell_type": "code",
   "execution_count": null,
   "metadata": {
    "collapsed": true
   },
   "outputs": [],
   "source": [
    "a <= 5 or a < b"
   ]
  },
  {
   "cell_type": "code",
   "execution_count": null,
   "metadata": {
    "collapsed": true
   },
   "outputs": [],
   "source": [
    "a <= 5 or b >= 7"
   ]
  },
  {
   "cell_type": "markdown",
   "metadata": {},
   "source": [
    "**Logical NOT (not)**"
   ]
  },
  {
   "cell_type": "code",
   "execution_count": null,
   "metadata": {
    "collapsed": true
   },
   "outputs": [],
   "source": [
    "not(a <= 5)"
   ]
  },
  {
   "attachments": {
    "image.png": {
     "image/png": "[encoded data removed]"
    }
   },
   "cell_type": "markdown",
   "metadata": {},
   "source": [
    "<h5><center>Helpful Tips!</center></h5>\n",
    "\n",
    "![image.png](attachment:image.png)\n",
    "\n",
    "1. **Note**: Precedence for Logical operators - **not, and, or**<br><br>\n",
    "\n",
    "2. **Hint for taking input from user**\n",
    "   * Python 3 - **input ( ) function will return string**\n",
    "<br>\n",
    "$\\;\\;\\;\\;\\;\\;\\;\\;\\;\\;\\;\\;\\;$**Use the returned string and convert it to a numerical type if needed**"
   ]
  },
  {
   "cell_type": "code",
   "execution_count": null,
   "metadata": {},
   "outputs": [],
   "source": [
    "var = input('enter value: ')\n",
    "\n",
    "print(var)"
   ]
  },
  {
   "cell_type": "markdown",
   "metadata": {},
   "source": [
    "# Exercise 1\n",
    "#### Comparators\n",
    "1. Take two inputs from user and check whether they are equal or not.<br><br>\n",
    "2. Take 3 inputs from user and check if\n",
    "   * they all are equal\n",
    "   * any of two are equal<br>\n",
    "   **HINT**:  use **and**, **or**<br><br> \n",
    "3. Take two number from user and check whether the sum is greater than 5, less than 5 or equal to 5.   \n",
    "   **HINT**:  For Python3 users, since the **input** outputs a string, use the **float()** to convert to a floating number before comparing<br><br>\n",
    "4. Judge the following expressions :<br>\n",
    "   **not(True and True)**<br>\n",
    "   **True or False**<br>\n",
    "   **not(False and True)**<br>\n",
    "   **False and False**<br>\n",
    "   What do you think are the results?<br>\n",
    "   Try them on commandline"
   ]
  },
  {
   "cell_type": "code",
   "execution_count": null,
   "metadata": {},
   "outputs": [],
   "source": []
  },
  {
   "cell_type": "code",
   "execution_count": null,
   "metadata": {},
   "outputs": [],
   "source": []
  },
  {
   "cell_type": "code",
   "execution_count": null,
   "metadata": {},
   "outputs": [],
   "source": []
  },
  {
   "cell_type": "code",
   "execution_count": null,
   "metadata": {},
   "outputs": [],
   "source": []
  },
  {
   "cell_type": "markdown",
   "metadata": {},
   "source": [
    "### If and else Decision Blocks\n",
    "#### If block \n",
    "* Consists of a Condition or Boolean expression followed by one or more statements.\n",
    "* If the Condition or Boolean expression is **True**, then the statement(s) are executed. If **False**, then then the statement(s) are skipped\n",
    "\n",
    "**if   < condition >:**\n",
    "<br>\n",
    "$\\;\\;\\;\\;\\;\\;$**statement(s)**"
   ]
  },
  {
   "cell_type": "code",
   "execution_count": null,
   "metadata": {},
   "outputs": [],
   "source": [
    "a = 5\n",
    "if a <= 5:\n",
    "    print('\\'a\\' is less than or equal to 5')\n",
    "    print('This statement is also executed under the if block')"
   ]
  },
  {
   "cell_type": "code",
   "execution_count": null,
   "metadata": {},
   "outputs": [],
   "source": [
    "if a <= 4:\n",
    "    print('\\'a\\' is less than or equal to 5')\n",
    "    print('This statement is also executed under the if block')\n",
    "print('DONE')"
   ]
  },
  {
   "attachments": {
    "image.png": {
     "image/png": "[encoded data removed]"
    }
   },
   "cell_type": "markdown",
   "metadata": {},
   "source": [
    "<h5><center>Helpful Tips!</center></h5>\n",
    "\n",
    "![image.png](attachment:image.png)\n",
    "\n",
    "**Python Blocks**\n",
    "* Every Python block like the **' if '** block is marked by a colon **' : '**\n",
    "* All the statements under the block must be indented under the block\n",
    "* Indentation must be consistent for each block and the whole python code\n",
    "\n",
    "#### If..else blocks\n",
    "* **' if '** block may be followed by an optional **' else '** block which executes when the Condition or Boolean expression is false\n",
    "* If the Condition or Boolean expression is **True**, then the statement(s) 1 are executed. If **False**, then then the statement(s) 2 are executed\n",
    "* The **' else '** block has no conditions attached\n",
    "* There can be only one **' if '** block and one **' else '** block \n",
    "\n",
    "**if   < condition >:**\n",
    "<br>\n",
    "$\\;\\;\\;\\;\\;\\;$**statement(s) 1**\n",
    "<br>\n",
    "**else:**\n",
    "<br>\n",
    "$\\;\\;\\;\\;\\;\\;$**statement(s) 2**"
   ]
  },
  {
   "cell_type": "code",
   "execution_count": null,
   "metadata": {},
   "outputs": [],
   "source": [
    "a = 6\n",
    "if a <= 5:\n",
    "    print('\\'a\\' is less than or equal to 5')\n",
    "    print('This statement is also executed under the if block')\n",
    "else:\n",
    "    print('\\'a\\' must be greater than 5')\n",
    "    print('This statement is also executed under the else block')\n",
    "print('DONE')"
   ]
  },
  {
   "cell_type": "markdown",
   "metadata": {},
   "source": [
    "#### If..elif..else blocks\n",
    "\n",
    "* **' if '** block may be followed by one or more optional **' elif '** (Else if) blocks and one optional **' else '** block\n",
    "* The **' if '** block and **' elif '** blocks must have conditions attached. The **' else '** block has no conditions attached\n",
    "* There can be only one **' if '** block and one **' else '** block. There can be more than one **' elif '** blocks. \n",
    "* If the Condition or Boolean expression under the **' if '** block is **False**, then the condition of the next **' elif '** block is examined. If **True**, the statement(s) 2 are executed. If **False**, the next **' elif '** block is examined until the statements under the **' else '** block are executed if an **' else '** block exists.  \n",
    "\n",
    "**if   < condition >:**\n",
    "<br>\n",
    "$\\;\\;\\;\\;\\;\\;$**statement(s) 1**\n",
    "<br>\n",
    "**elif   < condition >:**\n",
    "<br>\n",
    "$\\;\\;\\;\\;\\;\\;$**statement(s) 2**\n",
    "<br>\n",
    "**elif   < condition >:**\n",
    "<br>\n",
    "$\\;\\;\\;\\;\\;\\;$**statement(s) 3**\n",
    "<br>\n",
    "**else:**\n",
    "<br>\n",
    "$\\;\\;\\;\\;\\;\\;$**statement(s) 4**"
   ]
  },
  {
   "cell_type": "code",
   "execution_count": null,
   "metadata": {},
   "outputs": [],
   "source": [
    "b = input('Type a number for \\'b\\': ')\n",
    "a = float(b)\n",
    "if a <= 5:\n",
    "    print('\\'a\\' is less than or equal to 5')\n",
    "elif a > 5 and a <= 8:\n",
    "    print('\\'a\\' is greater than 5 and less than or equal to 8')\n",
    "elif a > 8 and a <= 10:\n",
    "    print('\\'a\\' is greater than 8 and less than or equal to 10')\n",
    "else:\n",
    "    print('\\'a\\' must be greater than 10')\n",
    "print('DONE')"
   ]
  },
  {
   "cell_type": "markdown",
   "metadata": {},
   "source": [
    "# Exercise 2\n",
    "#### UC 6+2 program\n",
    "Write a program to generate and print the UC 6+2 ID for a given first & last name.\n",
    "1. Take the user's first name and last name and store them in two different variables.\n",
    "2. If the length of the last name is >=6, take the first 6 letters from the last name & first and last letters from the first name to form the six plus two.\n",
    "3. If the length of the last name is <6, take all of the last name, pick first letters of first name to make up for the length the last name & first and last letters from the remainder of the first name\n",
    "4. Print out the six plus two in lower case"
   ]
  },
  {
   "cell_type": "code",
   "execution_count": null,
   "metadata": {},
   "outputs": [],
   "source": [
    "# Take input for user's first name and store in a variable\n",
    "first_name = '' # Replace this line with the right code\n",
    "\n",
    "# Take input for user's last name and store in a variable\n",
    "last_name = '' # Replace this line with the right code\n",
    "\n",
    "\n",
    "\n",
    "# Use the appropriate If and else Decision Block with a condition that compares the Length of the Last name to 6\n",
    "# In the If and else Decision Block store the six plus two in a variable\n",
    "# Use the Tips below in your If and else Decision Block\n",
    "\n",
    "\n",
    "\n",
    "\n",
    "\n",
    "# Print out the six plus two in lower case\n",
    "\n",
    "\n",
    "\n",
    "# Tips (Replace the portions marked with ?)\n",
    "# ********************************************\n",
    "# For length of the last name is >=6, sixplus2 = last_name[0:?] + first_name[0] + first_name[?]\n",
    "# For length of the last name is <6, sixplus2 = last_name + first_name[0:(6-len(?))] + first_name[?]"
   ]
  },
  {
   "cell_type": "markdown",
   "metadata": {},
   "source": [
    "### While Loop\n",
    "* **while** loop will execute as long as the looping condition or Boolean expression is **True**\n",
    "* The loop is exited when the looping condition or Boolean expression becomes **False**\n",
    "\n",
    "  **while   < condition >:**\n",
    "  <br>\n",
    "  $\\;\\;\\;\\;\\;\\;$**statement(s)**\n",
    "  \n",
    "#### Infinite loop \n",
    "Occurs when\n",
    "* Loop condition cannot possibly be False example **while 1 != 2:** or **while True:**\n",
    "* Logic of the loop prevents the loop condition from becoming false\n",
    "  \n",
    "**count = 10**\n",
    "<br>\n",
    "**while count>0:**\n",
    "<br>\n",
    "$\\;\\;\\;\\;\\;\\;$**count += 1**\n",
    "#### Break Statement\n",
    "Used to exit the current loop"
   ]
  },
  {
   "cell_type": "code",
   "execution_count": null,
   "metadata": {},
   "outputs": [],
   "source": [
    "count = 0\n",
    "while True:\n",
    "    print(count)\n",
    "    count +=1 # count = count + 1\n",
    "    if count >= 10:\n",
    "        break"
   ]
  },
  {
   "cell_type": "markdown",
   "metadata": {},
   "source": [
    "#### While..else loop blocks\n",
    "* A feature very unique to Python\n",
    "* The **'else'** block executes when either\n",
    " * Loop is never entered\n",
    " * Loop exits normally\n",
    "* The **'else'** block does not execute when the loop exits as a result of a break"
   ]
  },
  {
   "cell_type": "code",
   "execution_count": null,
   "metadata": {},
   "outputs": [],
   "source": [
    "import random #will explain import later \n",
    "count = 0\n",
    "while count < 3:\n",
    "    num = random.randint(1,6) # This will generate a random number between 1 and 6\n",
    "    print(num)\n",
    "    if num == 5:\n",
    "        print('sorry, you lose!')\n",
    "        break\n",
    "    count +=1\n",
    "else:\n",
    "    print('You win!')"
   ]
  },
  {
   "attachments": {
    "image.png": {
     "image/png": "[encoded data removed]"
    }
   },
   "cell_type": "markdown",
   "metadata": {},
   "source": [
    "<h5><center>Helpful Tips!</center></h5>\n",
    "\n",
    "![image.png](attachment:image.png)\n",
    "\n",
    "**Import command**\n",
    "* Used to import external modules and packages containing functions and other definitions\n",
    "* NB: We will introduce **Imports,** **Modules** and **Packages** into more details in the follow up workshop\n",
    "\n",
    "**Module 'random' and function 'randint'**\n",
    "* The module **'random'** contains definitions for generating random numbers\n",
    "* **'randint (a , b)'** is defined in module **'random'** to generate a random integer between **'a'** and **'b'** \n",
    "\n",
    "### For Loop\n",
    "* Each item in the sequence is assigned to the iterating variable and the statements are executed for each item until the entire sequence is exhausted.\n",
    "  \n",
    "  **for < iterating variable > in < sequence > :**\n",
    "  <br>\n",
    "  $\\;\\;\\;\\;\\;\\;$**statement(s)** "
   ]
  },
  {
   "cell_type": "code",
   "execution_count": null,
   "metadata": {},
   "outputs": [],
   "source": [
    "for var in 'string':\n",
    "    print(var)"
   ]
  },
  {
   "cell_type": "code",
   "execution_count": null,
   "metadata": {},
   "outputs": [],
   "source": [
    "k = 'string'\n",
    "for var in k:\n",
    "    print(var.upper())"
   ]
  },
  {
   "cell_type": "code",
   "execution_count": null,
   "metadata": {},
   "outputs": [],
   "source": [
    "list1 = ['banana','orange','mango']\n",
    "for fruit in list1:\n",
    "    print(fruit)"
   ]
  },
  {
   "cell_type": "code",
   "execution_count": null,
   "metadata": {},
   "outputs": [],
   "source": [
    "for num in (2,4,1,34,5):\n",
    "    print(num)"
   ]
  },
  {
   "attachments": {
    "image.png": {
     "image/png": "[encoded data removed]"
    }
   },
   "cell_type": "markdown",
   "metadata": {},
   "source": [
    "<h5><center>Helpful Tips!</center></h5>\n",
    "\n",
    "![image.png](attachment:image.png)\n",
    "\n",
    "**Range function**\n",
    "The **range** function generates a list of numbers\n",
    "* **range ( num )** - generates a list of numbers from **0** to **'num - 1'**\n",
    "* **range ( start , limit )** - generates a list of numbers from **'start'** to **'limit - 1'**\n",
    "* **range ( start , limit , increment )** - generates a list of numbers from **'start'**, incrementing by **'increment'** until a number less or equal to **'limit - 1'**"
   ]
  },
  {
   "cell_type": "code",
   "execution_count": null,
   "metadata": {},
   "outputs": [],
   "source": [
    "for num in range(10):\n",
    "    print(num)"
   ]
  },
  {
   "cell_type": "code",
   "execution_count": null,
   "metadata": {},
   "outputs": [],
   "source": [
    "for num in range(-6,6):\n",
    "    print(num)"
   ]
  },
  {
   "cell_type": "code",
   "execution_count": null,
   "metadata": {},
   "outputs": [],
   "source": [
    "for num in range(-10,-100,-30):\n",
    "    print(num)"
   ]
  },
  {
   "cell_type": "code",
   "execution_count": null,
   "metadata": {},
   "outputs": [],
   "source": [
    "for num in range(0,20,4):\n",
    "    print(num)"
   ]
  },
  {
   "cell_type": "markdown",
   "metadata": {},
   "source": [
    "#### For..else loop blocks\n",
    "* A feature very unique to Python just like **'while..else'** block\n",
    "* The **'else'** block executes when the loop exits normally\n",
    "* The **'else'** block does not execute when the loop exits as a result of a break"
   ]
  },
  {
   "cell_type": "code",
   "execution_count": null,
   "metadata": {},
   "outputs": [],
   "source": [
    "fruits = ['banana','apple','orange','tomato','pear']\n",
    "print('You have...')\n",
    "for f in fruits:\n",
    "    if f == 'tomato':\n",
    "        print('tomato is not a fruit!')\n",
    "        break\n",
    "    print(f)\n",
    "else:\n",
    "    print('A fine selection of fruits!')"
   ]
  },
  {
   "cell_type": "markdown",
   "metadata": {},
   "source": [
    "# Exercise 3\n",
    "#### DNA to RNA Transcribtion\n",
    "The process of converting DNA to RNA<br>\n",
    "G->C<br>\n",
    "C->G<br>\n",
    "A->T<br>\n",
    "T->A<br>\n",
    "Example:<br>\n",
    "**Input:** GCTAGCCTACG<br>\n",
    "**Output:** CGATCGGATGC\n",
    "\n",
    "Write a program that takes a DNA string input from a user and transcribes the string into an RNA string using rules above\n",
    "* Your program should be case insensitive\n",
    "* The program should exit if any other letter aside G,C, A and T is encountered in the DNA string\n",
    "* Your program should output the RNA string in upper cases"
   ]
  },
  {
   "cell_type": "code",
   "execution_count": null,
   "metadata": {},
   "outputs": [],
   "source": [
    "# Take input for DNA string and store in a variable DNA_string\n",
    "DNA_string = '' # Replace this line with the right code\n",
    "\n",
    "# Initialize the RNA output as an empty string\n",
    "RNA_string = ''\n",
    "\n",
    "# Use \"for\" loop to traverse the DNA string. Use \"If..elif..else\" sub block to check and concactenate the appropriate letter \n",
    "# to RNA_string.\n",
    "# Use \"else\" block in the \"If..elif..else\" sub block to output an error message and break if a diffrent letter is encountered\n",
    "\n",
    "for i in DNA_string.upper():\n",
    "    # the upper() method is used to make our program case insensitive\n",
    "    if i == 'G':\n",
    "        RNA_string = RNA_string + 'C'\n",
    "    # Continue the \"elif\" blocks of the \"If..elif..else\" block for the other letters\n",
    "    \n",
    "    \n",
    "    \n",
    "    \n",
    "    # Complete the \"If..elif..else\" block with \"else\" block for an error message assigned to RNA_string \n",
    "    # break out of the loop\n",
    "\n",
    "    \n",
    "else:\n",
    "    # This else is attached to the for loop\n",
    "    print('Done with Translation')\n",
    "\n",
    "print('DNA output: ', RNA_string)"
   ]
  },
  {
   "cell_type": "markdown",
   "metadata": {},
   "source": [
    "# Functions\n",
    "* A block of code, organized to perform an action and to be reusable\n",
    "* **System-defined** functions - Built-in functions like **print**, **len**, **range**, **input**, etc. These are already defined once you install Python\n",
    "* **User-defined** functions - You can also create your own functions\n",
    "\n",
    "### Defining a User Defined Function\n",
    "* Begins with keyword **'def'** followed by the function name and parentheses **( )**\n",
    "* Any input parameter/arguments should be placed within these parentheses. Multiple inputs are separated by commas **( , )** \n",
    "* Code block starts with colon (**:**) and is indented\n",
    "* **'return'** statement is optional and it exits a function\n",
    "* **'return expression'** statement passes back an expression or value to the caller of the function. \n",
    "* A fuction returns multiple values or objects as a list\n",
    "\n",
    "**def function name ( [ parameter[s] ] ) :**\n",
    "<br>\n",
    "$\\;\\;\\;\\;\\;\\;$**function body**\n",
    "<br>\n",
    "$\\;\\;\\;\\;\\;\\;$**[return expression]**"
   ]
  },
  {
   "cell_type": "code",
   "execution_count": null,
   "metadata": {},
   "outputs": [],
   "source": [
    "def printme(str):\n",
    "    #This prints a string passed into the function\n",
    "    print(str)"
   ]
  },
  {
   "cell_type": "markdown",
   "metadata": {},
   "source": [
    "### Calling a Function\n",
    "* After the basic structure is finalized, we can execute by either\n",
    " * Calling it from same script or another script or function\n",
    " * Calling it directly from command prompt"
   ]
  },
  {
   "cell_type": "code",
   "execution_count": null,
   "metadata": {},
   "outputs": [],
   "source": [
    "# Function call\n",
    "printme('First call to user defined function')\n",
    "printme('Second call to user defined function')"
   ]
  },
  {
   "cell_type": "markdown",
   "metadata": {},
   "source": [
    "# Variable Scope (Global vs. Local variables)\n",
    "* Variables defined outside a function body have a Global scope. (Accessible anywhere within the program)\n",
    "* Variables defined inside a function body have a Local scope. (Accessible only within the function even if it has the same name as another)"
   ]
  },
  {
   "cell_type": "code",
   "execution_count": null,
   "metadata": {},
   "outputs": [],
   "source": [
    "pressure = 103.9 # 'pressure' is Global\n",
    "k = 0 # 'k' is Global\n",
    "def adjust(t):\n",
    "    # 'k' is Local to this function and has different value from Global 'k'\n",
    "    k = 1.43\n",
    "    temperature = t * 1.43 / pressure # 'temperature' is Local to function\n",
    "    return(temperature)"
   ]
  },
  {
   "cell_type": "markdown",
   "metadata": {},
   "source": [
    "# Exercise 4\n",
    "### Convert the UC 6+2 program to a function\n",
    "Create a function to generate and return UC 6+2 ID for a given first & last name.\n", 
    "\n",
    "1. The inputs should be the first name and last name in that order\n",
    "2. If the length of the last name is >=6, take the first 6 letters from the last name & first and last letters from the first name to form the six plus two.\n",
    "3. If the length of the last name is <6, take all of the last name, pick first letters of first name to make up for the length the last name & first and last letters from the remainder of the first name\n",
    "4. Return the six plus two in lower case"
   ]
  },
  {
   "cell_type": "code",
   "execution_count": null,
   "metadata": {},
   "outputs": [],
   "source": [
    "def uc_6_2(first_name,last_name):\n",
    "    # Use the appropriate If and else Decision Block with a condition that compares the Length of the Last name\n",
    "    # In the If and else Decision Block store the six plus two in a variable\n",
    "    # Use the Tips below in your If and else Decision Block\n",
    "    if len(last_name) >= 6:\n",
    "        six_plus_2 = '' # Replace this line with the right code\n",
    "        \n",
    "    # Continue the \"If..elif..else\" block with the appropriate block for the remaining scenario\n",
    "    \n",
    "    # Return the six plus two in lower case\n",
    "    return \n",
    "\n",
    "\n",
    "\n",
    "# Tips (Replace the portions marked as with ?)\n",
    "# ********************************************\n",
    "# For length of the last name is >=6, sixplus2 = last_name[0:?] + first_name[0] + first_name[?]\n",
    "# For length of the last name is <6, sixplus2 = last_name + first_name[0:(6-len(?))] + first_name[?]"
   ]
  },
  {
   "cell_type": "markdown",
   "metadata": {},
   "source": [
    "# Advanced and Future Topics\n",
    "* Classes/Objects\n",
    "* Modules and Imports\n",
    "* Packages and Libraries\n",
    "* File I/O\n",
    "* Python for Data Analysis\n",
    "* Python for Data Visualization\n",
    "* Error Handling and Exceptions\n",
    "* List Comprehension\n",
    "* Regular Expressions\n",
    "* Database Access\n",
    "* Multithreading\n",
    "\n",
    "# Helpful Resources\n",
    "* CEAS Library Python resources - http://guides.libraries.uc.edu/python\n",
    "* Online links & tutorials\n",
    " * Python documentation - https://www.python.org/doc/\n",
    " * Python Programming wiki book - http://en.wikibooks.org/wiki/Python_Programming\n",
    " * Python tutorials - Udemy, Code academy, etc  "
   ]
  },
  {
   "cell_type": "markdown",
   "metadata": {},
   "source": [
    "# $\\;\\;\\;\\;\\;\\;\\;\\;\\;\\;\\;\\;\\;\\;\\;\\;\\;\\;\\;\\;\\;\\;\\;\\;\\;\\;\\;\\;\\;\\;\\;\\;\\;$Questions ??\n",
    "\n",
    "#  $\\;\\;\\;\\;\\;\\;\\;\\;\\;\\;\\;\\;\\;\\;\\;\\;\\;\\;\\;\\;\\;\\;\\;\\;\\;\\;\\;\\;\\;\\;\\;\\;\\;\\;\\;$Survey\n",
    "### $\\;\\;\\;\\;\\;\\;\\;\\;\\;\\;\\;\\;\\;\\;\\;\\;\\;\\;\\;\\;\\;\\;\\;\\;\\;\\;\\;\\;\\;\\;\\;\\;\\;$[Introduction to Python Part-2 - 26Jan22](https://forms.office.com/Pages/ResponsePage.aspx?id=bC4i9cZf60iPA3PbGCA7YwSMWPTMv0pLiLwv3kPsmgFUQUZKMzBUNjg2VkVTOUtRSFY1NlU5NTNCMC4u)\n",
    "\n",
    "\n",
    "\n",
    "\n",
    "\n",
    "\n",
    "# $\\;\\;\\;\\;\\;\\;\\;\\;\\;\\;\\;\\;\\;\\;\\;\\;\\;\\;\\;\\;\\;$ Pick one of the solution manuals\n",
    "$\\;\\;\\;\\;\\;\\;\\;\\;\\;\\;\\;\\;\\;\\;\\;\\;\\;\\;\\;\\;\\;\\;\\;\\;\\;\\;\\;\\;\\;\\;\\;\\;\\;\\;\\;\\;\\;\\;\\;\\;\\;\\;\\;\\;\\;\\;\\;\\;\\;\\;\\;\\;\\;\\;\\;\\;\\;\\;$**Thank you for attending the workshop !!**\n",
    "\n",
    "\n",
    "$\\;\\;\\;\\;\\;\\;\\;\\;\\;\\;\\;\\;\\;\\;\\;\\;\\;\\;\\;\\;\\;\\;\\;\\;\\;\\;\\;\\;\\;\\;\\;\\;\\;\\;\\;\\;\\;\\;\\;\\;\\;\\;\\;\\;\\;\\;$**Your kind suggestions/feedbacks are more than welcome**"
   ]
  }
 ],
 "metadata": {
  "kernelspec": {
   "display_name": "Python 3",
   "language": "python",
   "name": "python3"
  },
  "language_info": {
   "codemirror_mode": {
    "name": "ipython",
    "version": 3
   },
   "file_extension": ".py",
   "mimetype": "text/x-python",
   "name": "python",
   "nbconvert_exporter": "python",
   "pygments_lexer": "ipython3",
   "version": "3.6.5"
  }
 },
 "nbformat": 4,
 "nbformat_minor": 2
}
